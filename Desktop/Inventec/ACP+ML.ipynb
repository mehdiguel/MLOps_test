{
 "cells": [
  {
   "cell_type": "code",
   "execution_count": 19,
   "metadata": {},
   "outputs": [],
   "source": [
    "import numpy as np\n",
    "import pandas as pd\n",
    "import xgboost as xgb\n",
    "from xgboost.sklearn import XGBRegressor\n",
    "from sklearn.preprocessing import LabelEncoder"
   ]
  },
  {
   "cell_type": "code",
   "execution_count": 10,
   "metadata": {},
   "outputs": [
    {
     "data": {
      "text/plain": [
       "Index(['a1010', 'a1011', 'a1012', 'a1015', 'a1026', 'a1027', 'a1028', 'a1029',\n",
       "       'b2010', 'b2017', 'b2031', 'c3012', 'c3013', 'c3014', 'c3016', 'c3024',\n",
       "       'c3026', 'c3030', 'c3031', 'c3033', 'c3051', 'eau_di', 'd4010', 'd4011',\n",
       "       'd4013', 'd4014', 'd4015', 'd4024', 'd4043', 'd4044', 'd4056', 'e5020',\n",
       "       'e5039', 'e5090', 'e5091', 'f6013', 'g6010', 'g6012', 'i8019', 'i8023',\n",
       "       'i8025', 'i8013', 'coalescence', 'beading', 'mouillabilite_sur_cuivre',\n",
       "       'mouillabilite_meniscographe', 'grapping', 'perlage_sur_alumine',\n",
       "       'perlage_sur_mouillabilite', 'slump', 'aspect_residu', 'projection',\n",
       "       'test_ict'],\n",
       "      dtype='object')"
      ]
     },
     "execution_count": 10,
     "metadata": {},
     "output_type": "execute_result"
    }
   ],
   "source": [
    "cols = ['a1015', 'a1028', 'a1029', 'b2010', 'b2017', 'eau_di', 'd4024', 'd4056', 'g6010', 'i8025']\n",
    "\n",
    "df = pd.read_csv(r'C:\\Users\\MGUELMOUSSI\\Desktop\\Dev_projects\\CAB-Interface - 50 formules\\RR50.csv',sep=';', header=0, index_col=0)\n",
    "df.columns"
   ]
  },
  {
   "cell_type": "code",
   "execution_count": 11,
   "metadata": {},
   "outputs": [
    {
     "data": {
      "text/plain": [
       "(50, 21)"
      ]
     },
     "execution_count": 11,
     "metadata": {},
     "output_type": "execute_result"
    }
   ],
   "source": [
    "#Garder que le top 10 de l ACP\n",
    "cols_to_drop = ['a1010', 'a1011', 'a1012','a1026', 'a1027','b2031', 'c3012', 'c3013', 'c3014', 'c3016', 'c3024',\n",
    "       'c3026', 'c3030', 'c3031', 'c3033', 'c3051','d4010', 'd4011', 'd4013', 'd4014', 'd4015','d4043', 'd4044','e5020',\n",
    "       'e5039', 'e5090', 'e5091', 'f6013','g6012', 'i8019', 'i8023', 'i8013']\n",
    "\n",
    "df = df.drop(cols_to_drop,axis=1)\n",
    "df.shape"
   ]
  },
  {
   "cell_type": "code",
   "execution_count": 12,
   "metadata": {},
   "outputs": [
    {
     "data": {
      "text/plain": [
       "Index(['a1015', 'a1028', 'a1029', 'b2010', 'b2017', 'eau_di', 'd4024', 'd4056',\n",
       "       'g6010', 'i8025', 'coalescence', 'beading', 'mouillabilite_sur_cuivre',\n",
       "       'mouillabilite_meniscographe', 'grapping', 'perlage_sur_alumine',\n",
       "       'perlage_sur_mouillabilite', 'slump', 'aspect_residu', 'projection',\n",
       "       'test_ict'],\n",
       "      dtype='object')"
      ]
     },
     "execution_count": 12,
     "metadata": {},
     "output_type": "execute_result"
    }
   ],
   "source": [
    "df.columns"
   ]
  },
  {
   "cell_type": "code",
   "execution_count": 13,
   "metadata": {},
   "outputs": [
    {
     "data": {
      "text/html": [
       "<div>\n",
       "<style scoped>\n",
       "    .dataframe tbody tr th:only-of-type {\n",
       "        vertical-align: middle;\n",
       "    }\n",
       "\n",
       "    .dataframe tbody tr th {\n",
       "        vertical-align: top;\n",
       "    }\n",
       "\n",
       "    .dataframe thead th {\n",
       "        text-align: right;\n",
       "    }\n",
       "</style>\n",
       "<table border=\"1\" class=\"dataframe\">\n",
       "  <thead>\n",
       "    <tr style=\"text-align: right;\">\n",
       "      <th></th>\n",
       "      <th>a1015</th>\n",
       "      <th>a1028</th>\n",
       "      <th>a1029</th>\n",
       "      <th>b2010</th>\n",
       "      <th>b2017</th>\n",
       "      <th>eau_di</th>\n",
       "      <th>d4024</th>\n",
       "      <th>d4056</th>\n",
       "      <th>g6010</th>\n",
       "      <th>i8025</th>\n",
       "      <th>...</th>\n",
       "      <th>beading</th>\n",
       "      <th>mouillabilite_sur_cuivre</th>\n",
       "      <th>mouillabilite_meniscographe</th>\n",
       "      <th>grapping</th>\n",
       "      <th>perlage_sur_alumine</th>\n",
       "      <th>perlage_sur_mouillabilite</th>\n",
       "      <th>slump</th>\n",
       "      <th>aspect_residu</th>\n",
       "      <th>projection</th>\n",
       "      <th>test_ict</th>\n",
       "    </tr>\n",
       "    <tr>\n",
       "      <th>id</th>\n",
       "      <th></th>\n",
       "      <th></th>\n",
       "      <th></th>\n",
       "      <th></th>\n",
       "      <th></th>\n",
       "      <th></th>\n",
       "      <th></th>\n",
       "      <th></th>\n",
       "      <th></th>\n",
       "      <th></th>\n",
       "      <th></th>\n",
       "      <th></th>\n",
       "      <th></th>\n",
       "      <th></th>\n",
       "      <th></th>\n",
       "      <th></th>\n",
       "      <th></th>\n",
       "      <th></th>\n",
       "      <th></th>\n",
       "      <th></th>\n",
       "      <th></th>\n",
       "    </tr>\n",
       "  </thead>\n",
       "  <tbody>\n",
       "    <tr>\n",
       "      <th>743F</th>\n",
       "      <td>0.0</td>\n",
       "      <td>0.0</td>\n",
       "      <td>0</td>\n",
       "      <td>0</td>\n",
       "      <td>4.2</td>\n",
       "      <td>0.00</td>\n",
       "      <td>0.0</td>\n",
       "      <td>0.00</td>\n",
       "      <td>0.0</td>\n",
       "      <td>0</td>\n",
       "      <td>...</td>\n",
       "      <td>3.0</td>\n",
       "      <td>2</td>\n",
       "      <td>2</td>\n",
       "      <td>1</td>\n",
       "      <td>2</td>\n",
       "      <td>1</td>\n",
       "      <td>55</td>\n",
       "      <td>1</td>\n",
       "      <td>1</td>\n",
       "      <td>1</td>\n",
       "    </tr>\n",
       "    <tr>\n",
       "      <th>3304</th>\n",
       "      <td>10.0</td>\n",
       "      <td>5.0</td>\n",
       "      <td>0</td>\n",
       "      <td>0</td>\n",
       "      <td>0.5</td>\n",
       "      <td>0.00</td>\n",
       "      <td>0.0</td>\n",
       "      <td>0.00</td>\n",
       "      <td>0.0</td>\n",
       "      <td>0</td>\n",
       "      <td>...</td>\n",
       "      <td>1.1</td>\n",
       "      <td>4</td>\n",
       "      <td>2</td>\n",
       "      <td>4</td>\n",
       "      <td>4</td>\n",
       "      <td>4</td>\n",
       "      <td>27</td>\n",
       "      <td>4</td>\n",
       "      <td>3</td>\n",
       "      <td>3</td>\n",
       "    </tr>\n",
       "    <tr>\n",
       "      <th>1288A</th>\n",
       "      <td>5.0</td>\n",
       "      <td>8.0</td>\n",
       "      <td>0</td>\n",
       "      <td>0</td>\n",
       "      <td>0.5</td>\n",
       "      <td>0.00</td>\n",
       "      <td>0.0</td>\n",
       "      <td>0.00</td>\n",
       "      <td>0.0</td>\n",
       "      <td>0</td>\n",
       "      <td>...</td>\n",
       "      <td>1.1</td>\n",
       "      <td>3</td>\n",
       "      <td>2</td>\n",
       "      <td>3</td>\n",
       "      <td>3</td>\n",
       "      <td>4</td>\n",
       "      <td>29</td>\n",
       "      <td>2</td>\n",
       "      <td>1</td>\n",
       "      <td>3</td>\n",
       "    </tr>\n",
       "    <tr>\n",
       "      <th>1881</th>\n",
       "      <td>0.0</td>\n",
       "      <td>0.0</td>\n",
       "      <td>0</td>\n",
       "      <td>0</td>\n",
       "      <td>2.0</td>\n",
       "      <td>0.00</td>\n",
       "      <td>0.0</td>\n",
       "      <td>0.00</td>\n",
       "      <td>0.0</td>\n",
       "      <td>0</td>\n",
       "      <td>...</td>\n",
       "      <td>2.5</td>\n",
       "      <td>1</td>\n",
       "      <td>3</td>\n",
       "      <td>2</td>\n",
       "      <td>1</td>\n",
       "      <td>1</td>\n",
       "      <td>60</td>\n",
       "      <td>4</td>\n",
       "      <td>1</td>\n",
       "      <td>2</td>\n",
       "    </tr>\n",
       "    <tr>\n",
       "      <th>D31490700A</th>\n",
       "      <td>0.0</td>\n",
       "      <td>0.0</td>\n",
       "      <td>0</td>\n",
       "      <td>4</td>\n",
       "      <td>0.0</td>\n",
       "      <td>0.34</td>\n",
       "      <td>0.0</td>\n",
       "      <td>20.01</td>\n",
       "      <td>0.7</td>\n",
       "      <td>0</td>\n",
       "      <td>...</td>\n",
       "      <td>2.0</td>\n",
       "      <td>1</td>\n",
       "      <td>3</td>\n",
       "      <td>1</td>\n",
       "      <td>1</td>\n",
       "      <td>4</td>\n",
       "      <td>60</td>\n",
       "      <td>1</td>\n",
       "      <td>1</td>\n",
       "      <td>1</td>\n",
       "    </tr>\n",
       "  </tbody>\n",
       "</table>\n",
       "<p>5 rows × 21 columns</p>\n",
       "</div>"
      ],
      "text/plain": [
       "            a1015  a1028  a1029  b2010  b2017  eau_di  d4024  d4056  g6010  \\\n",
       "id                                                                           \n",
       "743F          0.0    0.0      0      0    4.2    0.00    0.0   0.00    0.0   \n",
       "3304         10.0    5.0      0      0    0.5    0.00    0.0   0.00    0.0   \n",
       "1288A         5.0    8.0      0      0    0.5    0.00    0.0   0.00    0.0   \n",
       "1881          0.0    0.0      0      0    2.0    0.00    0.0   0.00    0.0   \n",
       "D31490700A    0.0    0.0      0      4    0.0    0.34    0.0  20.01    0.7   \n",
       "\n",
       "            i8025  ...  beading  mouillabilite_sur_cuivre  \\\n",
       "id                 ...                                      \n",
       "743F            0  ...      3.0                         2   \n",
       "3304            0  ...      1.1                         4   \n",
       "1288A           0  ...      1.1                         3   \n",
       "1881            0  ...      2.5                         1   \n",
       "D31490700A      0  ...      2.0                         1   \n",
       "\n",
       "            mouillabilite_meniscographe  grapping  perlage_sur_alumine  \\\n",
       "id                                                                       \n",
       "743F                                  2         1                    2   \n",
       "3304                                  2         4                    4   \n",
       "1288A                                 2         3                    3   \n",
       "1881                                  3         2                    1   \n",
       "D31490700A                            3         1                    1   \n",
       "\n",
       "            perlage_sur_mouillabilite  slump  aspect_residu  projection  \\\n",
       "id                                                                        \n",
       "743F                                1     55              1           1   \n",
       "3304                                4     27              4           3   \n",
       "1288A                               4     29              2           1   \n",
       "1881                                1     60              4           1   \n",
       "D31490700A                          4     60              1           1   \n",
       "\n",
       "            test_ict  \n",
       "id                    \n",
       "743F               1  \n",
       "3304               3  \n",
       "1288A              3  \n",
       "1881               2  \n",
       "D31490700A         1  \n",
       "\n",
       "[5 rows x 21 columns]"
      ]
     },
     "execution_count": 13,
     "metadata": {},
     "output_type": "execute_result"
    }
   ],
   "source": [
    "df_train = df.iloc[:45,:]\n",
    "df_test = df.iloc[45:,:]\n",
    "df_test.head(5) "
   ]
  },
  {
   "cell_type": "code",
   "execution_count": 30,
   "metadata": {},
   "outputs": [
    {
     "data": {
      "text/plain": [
       "array([ 9.384027 ,  7.3314915,  3.4490871, 10.568277 ,  4.743651 ],\n",
       "      dtype=float32)"
      ]
     },
     "execution_count": 30,
     "metadata": {},
     "output_type": "execute_result"
    }
   ],
   "source": [
    "target = 'coalescence'\n",
    "\n",
    "X = df_train[cols]\n",
    "y = df_train[target]\n",
    "\n",
    "model = xgb.XGBRegressor(colsample_bytree= 0.7, learning_rate= 0.05, max_depth= 5, min_child_weight= 4, n_estimators= 500, nthread= 4, \n",
    "objective= 'reg:squarederror', subsample= 0.7 ,booster='gbtree', verbosity=1)\n",
    "model.fit(X, y)\n",
    "\n",
    "X_test = df_test[cols]\n",
    "y_test = df_test[target]\n",
    "\n",
    "\n",
    "preds = model.predict(X_test)\n",
    "train_score = model.score(X,y) * 100\n",
    "test_score = model.score(X_test,y_test) * 100\n",
    "preds"
   ]
  },
  {
   "cell_type": "code",
   "execution_count": 29,
   "metadata": {},
   "outputs": [
    {
     "data": {
      "text/plain": [
       "array([1, 1, 0, 4, 4], dtype=int64)"
      ]
     },
     "execution_count": 29,
     "metadata": {},
     "output_type": "execute_result"
    }
   ],
   "source": [
    "target = 'coalescence'\n",
    "\n",
    "labelencoder = LabelEncoder()\n",
    "X = df[cols]\n",
    "y = labelencoder.fit_transform(df[target])\n",
    "\n",
    "xgbmodel = xgb.XGBClassifier(base_score=0.5, booster='gbtree', colsample_bylevel=1, colsample_bynode=1, colsample_bytree=0.8,gamma=1.5, gpu_id=-1, grow_policy='depthwise',interaction_constraints='',learning_rate=0.02, max_bin=256, max_cat_to_onehot=4,\n",
    "               max_delta_step=0, max_depth=5, max_leaves=0, min_child_weight=1,monotone_constraints='()', n_estimators=600,n_jobs=1, nthread=1, num_parallel_tree=1,objective='multi:softprob', predictor='auto', random_state=0)\n",
    "\n",
    "xgbmodel.fit(X, y)\n",
    "\n",
    "X_test = df_test[cols]\n",
    "y_test = df_test[target]\n",
    "\n",
    "\n",
    "preds = xgbmodel.predict(X_test)\n",
    "train_score = xgbmodel.score(X,y) * 100\n",
    "test_score = xgbmodel.score(X_test,y_test) * 100\n",
    "preds"
   ]
  },
  {
   "cell_type": "code",
   "execution_count": null,
   "metadata": {},
   "outputs": [],
   "source": []
  }
 ],
 "metadata": {
  "kernelspec": {
   "display_name": "Python 3.10.2 64-bit",
   "language": "python",
   "name": "python3"
  },
  "language_info": {
   "codemirror_mode": {
    "name": "ipython",
    "version": 3
   },
   "file_extension": ".py",
   "mimetype": "text/x-python",
   "name": "python",
   "nbconvert_exporter": "python",
   "pygments_lexer": "ipython3",
   "version": "3.10.2"
  },
  "orig_nbformat": 4,
  "vscode": {
   "interpreter": {
    "hash": "a22eea46dafd9f8190acc41ddd0b9cd55450079ed492889186b1507b7ec52182"
   }
  }
 },
 "nbformat": 4,
 "nbformat_minor": 2
}

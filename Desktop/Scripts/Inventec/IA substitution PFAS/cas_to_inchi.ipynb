{
 "cells": [
  {
   "cell_type": "code",
   "execution_count": 1,
   "metadata": {},
   "outputs": [
    {
     "name": "stdout",
     "output_type": "stream",
     "text": [
      "60164-51-4\n",
      "2803620-31-5\n",
      "102689-65-0\n"
     ]
    }
   ],
   "source": [
    "from urllib.request import urlopen\n",
    "\n",
    "def CIRconvert(cas):\n",
    "    try:\n",
    "        url = 'http://cactus.nci.nih.gov/chemical/structure/' + cas + '/stdinchikey'\n",
    "        ans = urlopen(url).read().decode('utf8')\n",
    "        return ans\n",
    "    except:\n",
    "        return cas\n",
    "\n",
    "casno = ['60164-51-4', '2803620-31-5', '102689-65-0']\n",
    "\n",
    "for casid in casno:\n",
    "    print(CIRconvert(casid))"
   ]
  },
  {
   "cell_type": "code",
   "execution_count": 3,
   "metadata": {},
   "outputs": [
    {
     "name": "stdout",
     "output_type": "stream",
     "text": [
      "Collecting cirpy\n",
      "  Downloading CIRpy-1.0.2.tar.gz (20 kB)\n",
      "  Preparing metadata (setup.py): started\n",
      "  Preparing metadata (setup.py): finished with status 'done'\n",
      "Building wheels for collected packages: cirpy\n",
      "  Building wheel for cirpy (setup.py): started\n",
      "  Building wheel for cirpy (setup.py): finished with status 'done'\n",
      "  Created wheel for cirpy: filename=CIRpy-1.0.2-py3-none-any.whl size=7289 sha256=36c9cbd19b6b86d3fffbc1c745f1e0a65a82f80bf36ef5a1930585e35412c007\n",
      "  Stored in directory: c:\\users\\mguelmoussi\\appdata\\local\\pip\\cache\\wheels\\c7\\35\\2b\\f5d2226974fb5b1e84d53eda475d8b33a38548a6b25e32c2c0\n",
      "Successfully built cirpy\n",
      "Installing collected packages: cirpy\n",
      "Successfully installed cirpy-1.0.2\n",
      "Note: you may need to restart the kernel to use updated packages.\n"
     ]
    },
    {
     "name": "stderr",
     "output_type": "stream",
     "text": [
      "\n",
      "[notice] A new release of pip available: 22.2.2 -> 23.1.2\n",
      "[notice] To update, run: python.exe -m pip install --upgrade pip\n"
     ]
    }
   ],
   "source": [
    "pip install cirpy"
   ]
  },
  {
   "cell_type": "code",
   "execution_count": 6,
   "metadata": {},
   "outputs": [
    {
     "name": "stdout",
     "output_type": "stream",
     "text": [
      "None\n"
     ]
    }
   ],
   "source": [
    "import cirpy\n",
    "print(cirpy.resolve('102689-65-0', 'stdinchikey'))"
   ]
  }
 ],
 "metadata": {
  "kernelspec": {
   "display_name": "Python 3",
   "language": "python",
   "name": "python3"
  },
  "language_info": {
   "codemirror_mode": {
    "name": "ipython",
    "version": 3
   },
   "file_extension": ".py",
   "mimetype": "text/x-python",
   "name": "python",
   "nbconvert_exporter": "python",
   "pygments_lexer": "ipython3",
   "version": "3.10.2"
  },
  "orig_nbformat": 4
 },
 "nbformat": 4,
 "nbformat_minor": 2
}

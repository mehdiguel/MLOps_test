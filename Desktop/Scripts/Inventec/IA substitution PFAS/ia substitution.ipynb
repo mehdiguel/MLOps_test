{
 "cells": [
  {
   "cell_type": "code",
   "execution_count": 1,
   "metadata": {},
   "outputs": [],
   "source": [
    "import pandas as pd\n",
    "from sklearn.model_selection import train_test_split, cross_val_score\n",
    "from sklearn.ensemble import RandomForestRegressor\n",
    "from sklearn.metrics import mean_absolute_error\n",
    "import numpy as np"
   ]
  },
  {
   "cell_type": "code",
   "execution_count": 2,
   "metadata": {},
   "outputs": [
    {
     "data": {
      "text/html": [
       "<div>\n",
       "<style scoped>\n",
       "    .dataframe tbody tr th:only-of-type {\n",
       "        vertical-align: middle;\n",
       "    }\n",
       "\n",
       "    .dataframe tbody tr th {\n",
       "        vertical-align: top;\n",
       "    }\n",
       "\n",
       "    .dataframe thead th {\n",
       "        text-align: right;\n",
       "    }\n",
       "</style>\n",
       "<table border=\"1\" class=\"dataframe\">\n",
       "  <thead>\n",
       "    <tr style=\"text-align: right;\">\n",
       "      <th></th>\n",
       "      <th>Inchi</th>\n",
       "      <th>PFAS oui/non</th>\n",
       "      <th>Point d'ébullition</th>\n",
       "      <th>viscosité cinematique en Cst</th>\n",
       "      <th>tension de surface (dyn/cm)</th>\n",
       "      <th>GWP</th>\n",
       "      <th>toxicité</th>\n",
       "    </tr>\n",
       "  </thead>\n",
       "  <tbody>\n",
       "    <tr>\n",
       "      <th>0</th>\n",
       "      <td>1S/C2H2Cl2/c3-1-2-4/h1-2H/b2-1+</td>\n",
       "      <td>0</td>\n",
       "      <td>48.0</td>\n",
       "      <td>0.32</td>\n",
       "      <td>14.0</td>\n",
       "      <td>0.0</td>\n",
       "      <td>4</td>\n",
       "    </tr>\n",
       "    <tr>\n",
       "      <th>1</th>\n",
       "      <td>1S/C5H3F9O/c1-15-5(13,14)2(6,3(7,8)9)4(10,11)1...</td>\n",
       "      <td>1</td>\n",
       "      <td>61.0</td>\n",
       "      <td>0.30</td>\n",
       "      <td>14.0</td>\n",
       "      <td>320.0</td>\n",
       "      <td>5</td>\n",
       "    </tr>\n",
       "    <tr>\n",
       "      <th>2</th>\n",
       "      <td>1S/C6H5F9O/c1-2-16-6(14,15)3(7,4(8,9)10)5(11,1...</td>\n",
       "      <td>1</td>\n",
       "      <td>76.0</td>\n",
       "      <td>0.43</td>\n",
       "      <td>14.0</td>\n",
       "      <td>57.0</td>\n",
       "      <td>5</td>\n",
       "    </tr>\n",
       "    <tr>\n",
       "      <th>3</th>\n",
       "      <td>1S/C6F12O/c7-2(4(10,11)12,5(13,14)15)1(19)3(8,...</td>\n",
       "      <td>1</td>\n",
       "      <td>49.0</td>\n",
       "      <td>0.40</td>\n",
       "      <td>11.0</td>\n",
       "      <td>1.0</td>\n",
       "      <td>5</td>\n",
       "    </tr>\n",
       "    <tr>\n",
       "      <th>4</th>\n",
       "      <td>1S/C5F12O/c6-1(7,2(8,9)10)4(14,15)18-5(16,17)3...</td>\n",
       "      <td>1</td>\n",
       "      <td>170.0</td>\n",
       "      <td>1.81</td>\n",
       "      <td>17.0</td>\n",
       "      <td>7800.0</td>\n",
       "      <td>5</td>\n",
       "    </tr>\n",
       "  </tbody>\n",
       "</table>\n",
       "</div>"
      ],
      "text/plain": [
       "                                               Inchi  PFAS oui/non  \\\n",
       "0                    1S/C2H2Cl2/c3-1-2-4/h1-2H/b2-1+             0   \n",
       "1  1S/C5H3F9O/c1-15-5(13,14)2(6,3(7,8)9)4(10,11)1...             1   \n",
       "2  1S/C6H5F9O/c1-2-16-6(14,15)3(7,4(8,9)10)5(11,1...             1   \n",
       "3  1S/C6F12O/c7-2(4(10,11)12,5(13,14)15)1(19)3(8,...             1   \n",
       "4  1S/C5F12O/c6-1(7,2(8,9)10)4(14,15)18-5(16,17)3...             1   \n",
       "\n",
       "   Point d'ébullition  viscosité cinematique en Cst  \\\n",
       "0                48.0                          0.32   \n",
       "1                61.0                          0.30   \n",
       "2                76.0                          0.43   \n",
       "3                49.0                          0.40   \n",
       "4               170.0                          1.81   \n",
       "\n",
       "   tension de surface (dyn/cm)     GWP  toxicité  \n",
       "0                         14.0     0.0         4  \n",
       "1                         14.0   320.0         5  \n",
       "2                         14.0    57.0         5  \n",
       "3                         11.0     1.0         5  \n",
       "4                         17.0  7800.0         5  "
      ]
     },
     "execution_count": 2,
     "metadata": {},
     "output_type": "execute_result"
    }
   ],
   "source": [
    "data = pd.read_excel(r\"C:\\Users\\MGUELMOUSSI\\OneDrive - Dehon Group\\inventec\\Inventec_local\\IA substitution PFAS\\030723_BDD_prototype2_PFAS.xlsx\")\n",
    "data = data.loc[:,['Inchi', 'PFAS oui/non', \"Point d'ébullition\", 'viscosité cinematique en Cst', 'tension de surface (dyn/cm)', 'GWP', 'toxicité']]\n",
    "data.head()"
   ]
  },
  {
   "cell_type": "code",
   "execution_count": 3,
   "metadata": {},
   "outputs": [
    {
     "data": {
      "text/plain": [
       "list"
      ]
     },
     "execution_count": 3,
     "metadata": {},
     "output_type": "execute_result"
    }
   ],
   "source": [
    "def custom_encode(inchi_string):\n",
    "    # Split the InChI string into characters and numbers\n",
    "    tokens = []\n",
    "    current_token = inchi_string[0]\n",
    "    for char in inchi_string[1:]:\n",
    "        if char.isalpha() == current_token[0].isalpha():\n",
    "            current_token += char\n",
    "        else:\n",
    "            tokens.append(current_token)\n",
    "            current_token = char\n",
    "    tokens.append(current_token)\n",
    "    \n",
    "    # Encode the tokens into numerical values\n",
    "    encoded_tokens = []\n",
    "    for token in tokens:\n",
    "        if token[0].isalpha():\n",
    "            encoded_tokens.append(ord(token[0]))\n",
    "        else:\n",
    "            # Handle characters that are not alphabetic or numeric\n",
    "            encoded_tokens.extend([ord(char) for char in token])\n",
    "    \n",
    "    return encoded_tokens\n",
    "\n",
    "encoded_inchi = custom_encode('1S/C2H2Cl2/c3-1-2-4/h1-2H/b2-1+')\n",
    "type(encoded_inchi)"
   ]
  },
  {
   "cell_type": "code",
   "execution_count": 4,
   "metadata": {},
   "outputs": [
    {
     "name": "stdout",
     "output_type": "stream",
     "text": [
      "Original InChI: 1S/C2H2Cl2/c3-1-2-4/h1-2H/b2-1+\n",
      "Decoded InChI: 1S/C2H2C2/c3-1-2-4/h1-2H/b2-1+\n"
     ]
    }
   ],
   "source": [
    "def custom_decode(encoded_tokens):\n",
    "    # Initialize variables\n",
    "    decoded_string = \"\"\n",
    "    current_token = \"\"\n",
    "\n",
    "    # Iterate through the encoded tokens\n",
    "    for i, token in enumerate(encoded_tokens):\n",
    "        if token >= ord('A') and token <= ord('Z'):\n",
    "            # If the token is in uppercase, it represents a character\n",
    "            current_token += chr(token)\n",
    "        else:\n",
    "            # If the token is a number (or other ASCII value), it's part of the previous character\n",
    "            current_token += chr(token)\n",
    "        \n",
    "        # Check if this is the last token or if the next token is a digit\n",
    "        if i == len(encoded_tokens) - 1 or (i < len(encoded_tokens) - 1 and encoded_tokens[i + 1] >= ord('0') and encoded_tokens[i + 1] <= ord('9')):\n",
    "            # Add the completed token to the decoded string\n",
    "            decoded_string += current_token\n",
    "            current_token = \"\"\n",
    "    \n",
    "    return decoded_string\n",
    "\n",
    "decoded_string = custom_decode(encoded_inchi)\n",
    "print(\"Original InChI:\", '1S/C2H2Cl2/c3-1-2-4/h1-2H/b2-1+')\n",
    "print(\"Decoded InChI:\", decoded_string)"
   ]
  },
  {
   "cell_type": "code",
   "execution_count": 10,
   "metadata": {},
   "outputs": [
    {
     "data": {
      "text/plain": [
       "108"
      ]
     },
     "execution_count": 10,
     "metadata": {},
     "output_type": "execute_result"
    }
   ],
   "source": [
    "len('1S/C11H3F19O2/c1-31-7(3(13,10(25,26)27)11(28,29)30)5(16,17)4(14,15)6(18,32-7)2(12,8(19,20)21)9(22,23)24/h1H3')"
   ]
  },
  {
   "cell_type": "code",
   "execution_count": 5,
   "metadata": {},
   "outputs": [
    {
     "data": {
      "text/html": [
       "<div>\n",
       "<style scoped>\n",
       "    .dataframe tbody tr th:only-of-type {\n",
       "        vertical-align: middle;\n",
       "    }\n",
       "\n",
       "    .dataframe tbody tr th {\n",
       "        vertical-align: top;\n",
       "    }\n",
       "\n",
       "    .dataframe thead th {\n",
       "        text-align: right;\n",
       "    }\n",
       "</style>\n",
       "<table border=\"1\" class=\"dataframe\">\n",
       "  <thead>\n",
       "    <tr style=\"text-align: right;\">\n",
       "      <th></th>\n",
       "      <th>Column_1</th>\n",
       "      <th>Column_2</th>\n",
       "      <th>Column_3</th>\n",
       "      <th>Column_4</th>\n",
       "      <th>Column_5</th>\n",
       "      <th>Column_6</th>\n",
       "      <th>Column_7</th>\n",
       "      <th>Column_8</th>\n",
       "      <th>Column_9</th>\n",
       "      <th>Column_10</th>\n",
       "      <th>...</th>\n",
       "      <th>Column_99</th>\n",
       "      <th>Column_100</th>\n",
       "      <th>Column_101</th>\n",
       "      <th>Column_102</th>\n",
       "      <th>Column_103</th>\n",
       "      <th>Column_104</th>\n",
       "      <th>Column_105</th>\n",
       "      <th>Column_106</th>\n",
       "      <th>Column_107</th>\n",
       "      <th>Column_108</th>\n",
       "    </tr>\n",
       "  </thead>\n",
       "  <tbody>\n",
       "    <tr>\n",
       "      <th>0</th>\n",
       "      <td>49</td>\n",
       "      <td>83</td>\n",
       "      <td>47</td>\n",
       "      <td>67</td>\n",
       "      <td>50</td>\n",
       "      <td>72</td>\n",
       "      <td>50</td>\n",
       "      <td>67</td>\n",
       "      <td>50</td>\n",
       "      <td>47</td>\n",
       "      <td>...</td>\n",
       "      <td>0.0</td>\n",
       "      <td>0.0</td>\n",
       "      <td>0.0</td>\n",
       "      <td>0.0</td>\n",
       "      <td>0.0</td>\n",
       "      <td>0.0</td>\n",
       "      <td>0.0</td>\n",
       "      <td>0.0</td>\n",
       "      <td>0.0</td>\n",
       "      <td>0.0</td>\n",
       "    </tr>\n",
       "    <tr>\n",
       "      <th>1</th>\n",
       "      <td>49</td>\n",
       "      <td>83</td>\n",
       "      <td>47</td>\n",
       "      <td>67</td>\n",
       "      <td>53</td>\n",
       "      <td>72</td>\n",
       "      <td>51</td>\n",
       "      <td>70</td>\n",
       "      <td>57</td>\n",
       "      <td>79</td>\n",
       "      <td>...</td>\n",
       "      <td>0.0</td>\n",
       "      <td>0.0</td>\n",
       "      <td>0.0</td>\n",
       "      <td>0.0</td>\n",
       "      <td>0.0</td>\n",
       "      <td>0.0</td>\n",
       "      <td>0.0</td>\n",
       "      <td>0.0</td>\n",
       "      <td>0.0</td>\n",
       "      <td>0.0</td>\n",
       "    </tr>\n",
       "    <tr>\n",
       "      <th>2</th>\n",
       "      <td>49</td>\n",
       "      <td>83</td>\n",
       "      <td>47</td>\n",
       "      <td>67</td>\n",
       "      <td>54</td>\n",
       "      <td>72</td>\n",
       "      <td>53</td>\n",
       "      <td>70</td>\n",
       "      <td>57</td>\n",
       "      <td>79</td>\n",
       "      <td>...</td>\n",
       "      <td>0.0</td>\n",
       "      <td>0.0</td>\n",
       "      <td>0.0</td>\n",
       "      <td>0.0</td>\n",
       "      <td>0.0</td>\n",
       "      <td>0.0</td>\n",
       "      <td>0.0</td>\n",
       "      <td>0.0</td>\n",
       "      <td>0.0</td>\n",
       "      <td>0.0</td>\n",
       "    </tr>\n",
       "    <tr>\n",
       "      <th>3</th>\n",
       "      <td>49</td>\n",
       "      <td>83</td>\n",
       "      <td>47</td>\n",
       "      <td>67</td>\n",
       "      <td>54</td>\n",
       "      <td>70</td>\n",
       "      <td>49</td>\n",
       "      <td>50</td>\n",
       "      <td>79</td>\n",
       "      <td>47</td>\n",
       "      <td>...</td>\n",
       "      <td>0.0</td>\n",
       "      <td>0.0</td>\n",
       "      <td>0.0</td>\n",
       "      <td>0.0</td>\n",
       "      <td>0.0</td>\n",
       "      <td>0.0</td>\n",
       "      <td>0.0</td>\n",
       "      <td>0.0</td>\n",
       "      <td>0.0</td>\n",
       "      <td>0.0</td>\n",
       "    </tr>\n",
       "    <tr>\n",
       "      <th>4</th>\n",
       "      <td>49</td>\n",
       "      <td>83</td>\n",
       "      <td>47</td>\n",
       "      <td>67</td>\n",
       "      <td>53</td>\n",
       "      <td>70</td>\n",
       "      <td>49</td>\n",
       "      <td>50</td>\n",
       "      <td>79</td>\n",
       "      <td>47</td>\n",
       "      <td>...</td>\n",
       "      <td>0.0</td>\n",
       "      <td>0.0</td>\n",
       "      <td>0.0</td>\n",
       "      <td>0.0</td>\n",
       "      <td>0.0</td>\n",
       "      <td>0.0</td>\n",
       "      <td>0.0</td>\n",
       "      <td>0.0</td>\n",
       "      <td>0.0</td>\n",
       "      <td>0.0</td>\n",
       "    </tr>\n",
       "  </tbody>\n",
       "</table>\n",
       "<p>5 rows × 108 columns</p>\n",
       "</div>"
      ],
      "text/plain": [
       "   Column_1  Column_2  Column_3  Column_4  Column_5  Column_6  Column_7  \\\n",
       "0        49        83        47        67        50        72        50   \n",
       "1        49        83        47        67        53        72        51   \n",
       "2        49        83        47        67        54        72        53   \n",
       "3        49        83        47        67        54        70        49   \n",
       "4        49        83        47        67        53        70        49   \n",
       "\n",
       "   Column_8  Column_9  Column_10  ...  Column_99  Column_100  Column_101  \\\n",
       "0        67        50         47  ...        0.0         0.0         0.0   \n",
       "1        70        57         79  ...        0.0         0.0         0.0   \n",
       "2        70        57         79  ...        0.0         0.0         0.0   \n",
       "3        50        79         47  ...        0.0         0.0         0.0   \n",
       "4        50        79         47  ...        0.0         0.0         0.0   \n",
       "\n",
       "   Column_102  Column_103  Column_104  Column_105  Column_106  Column_107  \\\n",
       "0         0.0         0.0         0.0         0.0         0.0         0.0   \n",
       "1         0.0         0.0         0.0         0.0         0.0         0.0   \n",
       "2         0.0         0.0         0.0         0.0         0.0         0.0   \n",
       "3         0.0         0.0         0.0         0.0         0.0         0.0   \n",
       "4         0.0         0.0         0.0         0.0         0.0         0.0   \n",
       "\n",
       "   Column_108  \n",
       "0         0.0  \n",
       "1         0.0  \n",
       "2         0.0  \n",
       "3         0.0  \n",
       "4         0.0  \n",
       "\n",
       "[5 rows x 108 columns]"
      ]
     },
     "execution_count": 5,
     "metadata": {},
     "output_type": "execute_result"
    }
   ],
   "source": [
    "df = pd.DataFrame()\n",
    "\n",
    "# Apply custom_encode to the \"Inchi\" column and store the results in inchi_df\n",
    "df['Encoded_Inchi'] = data['Inchi'].apply(custom_encode)\n",
    "\n",
    "max_columns = max(len(row) for row in df['Encoded_Inchi'])\n",
    "\n",
    "# Expand the \"Encoded_Inchi\" column into separate columns with NaN for missing values\n",
    "inchi_df = df['Encoded_Inchi'].apply(lambda x: x + [None] * (max_columns - len(x)))\n",
    "inchi_df = pd.DataFrame(inchi_df.tolist(), columns=[f'Column_{i+1}' for i in range(max_columns)])\n",
    "\n",
    "inchi_df = inchi_df.fillna(0)\n",
    "inchi_df.head()"
   ]
  },
  {
   "cell_type": "code",
   "execution_count": 14,
   "metadata": {},
   "outputs": [],
   "source": [
    "X = data.drop(columns=[\"Inchi\"])\n",
    "y = inchi_df"
   ]
  },
  {
   "cell_type": "code",
   "execution_count": 15,
   "metadata": {},
   "outputs": [
    {
     "data": {
      "text/plain": [
       "Index(['Column_1', 'Column_2', 'Column_3', 'Column_4', 'Column_5', 'Column_6',\n",
       "       'Column_7', 'Column_8', 'Column_9', 'Column_10',\n",
       "       ...\n",
       "       'Column_99', 'Column_100', 'Column_101', 'Column_102', 'Column_103',\n",
       "       'Column_104', 'Column_105', 'Column_106', 'Column_107', 'Column_108'],\n",
       "      dtype='object', length=108)"
      ]
     },
     "execution_count": 15,
     "metadata": {},
     "output_type": "execute_result"
    }
   ],
   "source": [
    "inchi_df.columns"
   ]
  },
  {
   "cell_type": "code",
   "execution_count": 16,
   "metadata": {},
   "outputs": [],
   "source": [
    "X_train, X_test, y_train, y_test = train_test_split(X, y, test_size=0.2, random_state=42)"
   ]
  },
  {
   "cell_type": "code",
   "execution_count": 17,
   "metadata": {},
   "outputs": [
    {
     "data": {
      "text/plain": [
       "RandomForestRegressor()"
      ]
     },
     "execution_count": 17,
     "metadata": {},
     "output_type": "execute_result"
    }
   ],
   "source": [
    "# Choose a model (Random Forest Regressor)\n",
    "model = RandomForestRegressor()\n",
    "\n",
    "model.fit(X_train, y_train)"
   ]
  },
  {
   "cell_type": "code",
   "execution_count": 18,
   "metadata": {},
   "outputs": [
    {
     "name": "stdout",
     "output_type": "stream",
     "text": [
      "Mean Absolute Error: 7.015034722222223\n"
     ]
    }
   ],
   "source": [
    "y_pred = model.predict(X_test)\n",
    "\n",
    "mae = mean_absolute_error(y_test, y_pred)\n",
    "print(\"Mean Absolute Error:\", mae)"
   ]
  },
  {
   "cell_type": "code",
   "execution_count": 24,
   "metadata": {},
   "outputs": [
    {
     "data": {
      "text/html": [
       "<div>\n",
       "<style scoped>\n",
       "    .dataframe tbody tr th:only-of-type {\n",
       "        vertical-align: middle;\n",
       "    }\n",
       "\n",
       "    .dataframe tbody tr th {\n",
       "        vertical-align: top;\n",
       "    }\n",
       "\n",
       "    .dataframe thead th {\n",
       "        text-align: right;\n",
       "    }\n",
       "</style>\n",
       "<table border=\"1\" class=\"dataframe\">\n",
       "  <thead>\n",
       "    <tr style=\"text-align: right;\">\n",
       "      <th></th>\n",
       "      <th>PFAS oui/non</th>\n",
       "      <th>Point d'ébullition</th>\n",
       "      <th>viscosité cinematique en Cst</th>\n",
       "      <th>tension de surface (dyn/cm)</th>\n",
       "      <th>GWP</th>\n",
       "      <th>toxicité</th>\n",
       "    </tr>\n",
       "  </thead>\n",
       "  <tbody>\n",
       "    <tr>\n",
       "      <th>0</th>\n",
       "      <td>0</td>\n",
       "      <td>185.0</td>\n",
       "      <td>0.41</td>\n",
       "      <td>22.3</td>\n",
       "      <td>120</td>\n",
       "      <td>1</td>\n",
       "    </tr>\n",
       "    <tr>\n",
       "      <th>1</th>\n",
       "      <td>0</td>\n",
       "      <td>92.8</td>\n",
       "      <td>0.37</td>\n",
       "      <td>23.0</td>\n",
       "      <td>4600</td>\n",
       "      <td>4</td>\n",
       "    </tr>\n",
       "  </tbody>\n",
       "</table>\n",
       "</div>"
      ],
      "text/plain": [
       "   PFAS oui/non  Point d'ébullition  viscosité cinematique en Cst  \\\n",
       "0             0               185.0                          0.41   \n",
       "1             0                92.8                          0.37   \n",
       "\n",
       "   tension de surface (dyn/cm)   GWP  toxicité  \n",
       "0                         22.3   120         1  \n",
       "1                         23.0  4600         4  "
      ]
     },
     "execution_count": 24,
     "metadata": {},
     "output_type": "execute_result"
    }
   ],
   "source": [
    "test_df = pd.read_excel(r\"C:\\Users\\MGUELMOUSSI\\OneDrive - Dehon Group\\inventec\\Inventec_local\\IA substitution PFAS\\test_substitution.xlsx\")\n",
    "test_df = test_df.loc[:,['PFAS oui/non', \"Point d'ébullition\", 'viscosité cinematique en Cst', 'tension de surface (dyn/cm)', 'GWP', 'toxicité']]\n",
    "test_df"
   ]
  },
  {
   "cell_type": "code",
   "execution_count": 38,
   "metadata": {},
   "outputs": [],
   "source": [
    "test_pred = model.predict(test_df)"
   ]
  },
  {
   "cell_type": "code",
   "execution_count": 39,
   "metadata": {},
   "outputs": [
    {
     "data": {
      "text/plain": [
       "array([['1S/C3=@@;5667.85-(\"\\x19\\x1c\\x17\\x1c\\x19\\x19\\x1d\\x14\\x16\\x15\\x12\\x14\\x12\\x12\\x14\\x13\\x12\\x14\\x13\\x11\\x14\\x12\\x12\\x12\\x15\\x13\\x13\\x15\\x11\\x12\\x13\\x11\\x13\\x11\\x12\\x14\\x12\\x13\\x14\\x12\\x12\\x11\\x11\\x13\\x12\\x12\\x14\\x11\\x14\\x12\\x12\\x14\\x10\\x11\\x12\\x11\\x11\\x10\\x12\\x0f\\x19\\x12\\x14\\x13\\x0f\\x11\\x16\\x10\\n\\n\\x08\\n\\n\\x08\\x0b\\x08\\n\\n\\t\\n\\n\\x08\\n\\n\\t\\x15\\n\\x0f\\n'],\n",
       "       [\"1S/C2D8E4?6C3-2-4),''%:'-,\\x11\\x11\\x10\\x0c\\t\\t\\x08\\n\\x08\\t\\t\\x08\\x08\\x08\\x08\\x08\\x08\\t\\x08\\x08\\x08\\x08\\n\\x08\\x08\\t\\x07\\x07\\x07\\x06\\x07\\x07\\x07\\x07\\x06\\x06\\x07\\x06\\x06\\x07\\x06\\n\\x06\\x07\\x07\\x03\\x03\\x04\\x03\\x03\\x03\\x04\\x03\\x05\\x04\\x04\\x04\\x03\\x03\\x05\\x03\\x02\\x02\\x02\\x02\\x02\\x02\\x02\\x02\\x02\\x02\\x02\\x02\\x02\\x02\\x02\\x02\\x02\\x05\\x02\\x03\\x02\"]],\n",
       "      dtype='<U108')"
      ]
     },
     "execution_count": 39,
     "metadata": {},
     "output_type": "execute_result"
    }
   ],
   "source": [
    "decoded_values = []\n",
    "for row in test_pred:\n",
    "    decoded_row = [custom_decode([int(val) for val in row])]\n",
    "    decoded_values.append(decoded_row)\n",
    "\n",
    "# Convert the result to a NumPy array\n",
    "decoded_values_array = np.array(decoded_values)  \n",
    "decoded_values_array\n"
   ]
  },
  {
   "cell_type": "code",
   "execution_count": 19,
   "metadata": {},
   "outputs": [],
   "source": [
    "# Perform cross-validation (e.g., 5-fold cross-validation)\n",
    "scores = cross_val_score(model, X, y, scoring=\"neg_mean_absolute_error\", cv=5)\n",
    "mae_scores = -scores  # Convert negative scores to positive MAE"
   ]
  },
  {
   "cell_type": "code",
   "execution_count": 20,
   "metadata": {},
   "outputs": [
    {
     "name": "stdout",
     "output_type": "stream",
     "text": [
      "Mean Cross-Validated MAE: 8.587084986772485\n"
     ]
    }
   ],
   "source": [
    "# Calculate the mean MAE from cross-validation\n",
    "mean_mae = mae_scores.mean()\n",
    "print(\"Mean Cross-Validated MAE:\", mean_mae)"
   ]
  },
  {
   "cell_type": "code",
   "execution_count": null,
   "metadata": {},
   "outputs": [],
   "source": []
  }
 ],
 "metadata": {
  "kernelspec": {
   "display_name": "Python 3",
   "language": "python",
   "name": "python3"
  },
  "language_info": {
   "codemirror_mode": {
    "name": "ipython",
    "version": 3
   },
   "file_extension": ".py",
   "mimetype": "text/x-python",
   "name": "python",
   "nbconvert_exporter": "python",
   "pygments_lexer": "ipython3",
   "version": "3.10.2"
  },
  "orig_nbformat": 4
 },
 "nbformat": 4,
 "nbformat_minor": 2
}
